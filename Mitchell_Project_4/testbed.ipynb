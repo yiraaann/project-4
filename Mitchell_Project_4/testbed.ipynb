{
 "cells": [
  {
   "cell_type": "code",
   "execution_count": 3,
   "id": "404daef0-e82b-4b89-81ab-2b20f2cbde45",
   "metadata": {},
   "outputs": [
    {
     "name": "stdout",
     "output_type": "stream",
     "text": [
      "['a', 'b', 'c', 'c']\n",
      "['a', 'b', 'c']\n"
     ]
    }
   ],
   "source": [
    "letters = ['a', 'b', 'c', 'c']\n",
    "print(letters)\n",
    "unique_letters = {letter for letter in letters}\n",
    "unique_letters_list = list(unique_letters)\n",
    "unique_letters_list.sort()\n",
    "print(unique_letters_list)"
   ]
  },
  {
   "cell_type": "code",
   "execution_count": 5,
   "id": "ce2d33a6-a55c-4dde-a739-06bd0f178f36",
   "metadata": {},
   "outputs": [
    {
     "name": "stdout",
     "output_type": "stream",
     "text": [
      "ab df\n"
     ]
    }
   ],
   "source": [
    "sublist = 'ab df'\n",
    "import re\n",
    "pattern_3 = r\" \"\n",
    "\n",
    "\n",
    "if  re.findall(pattern_3, sublist):\n",
    "            print(sublist)"
   ]
  },
  {
   "cell_type": "code",
   "execution_count": 7,
   "id": "fed8acf2-e7ed-45fc-be00-4a419f2d2e5f",
   "metadata": {},
   "outputs": [
    {
     "name": "stdout",
     "output_type": "stream",
     "text": [
      "0: 1\n",
      "0: 2\n",
      "0: 3\n",
      "1: 2\n",
      "1: 3\n",
      "2: 3\n"
     ]
    }
   ],
   "source": [
    "a = ['a','b','c','d']\n",
    "x = len(a)\n",
    "for i in range(x):\n",
    "    for j in range(x):\n",
    "        if (i < j):\n",
    "            print(f\"{i}: {j}\")"
   ]
  },
  {
   "cell_type": "code",
   "execution_count": 9,
   "id": "d1378dbc-6920-43a2-8dfb-73ee2c8156ab",
   "metadata": {},
   "outputs": [
    {
     "data": {
      "image/png": "[encoded data removed]",
      "text/plain": [
       "<Figure size 1000x600 with 1 Axes>"
      ]
     },
     "metadata": {},
     "output_type": "display_data"
    }
   ],
   "source": [
    "import numpy as np\n",
    "import matplotlib.pyplot as plt\n",
    "from collections import Counter\n",
    "import re\n",
    "\n",
    "def clean_text(text):\n",
    "    text = text.lower()\n",
    "    text = re.sub(r'[^\\w\\s]', '', text)\n",
    "    return text\n",
    "\n",
    "def calculate_zipf(text):\n",
    "    cleaned_text = clean_text(text)\n",
    "    words = cleaned_text.split()\n",
    "    word_counts = Counter(words)\n",
    "    ranked_words = sorted(word_counts.items(), key=lambda x: x[1], reverse=True)\n",
    "    return ranked_words\n",
    "\n",
    "def plot_zipf(ranked_words, title=\"Zipf's Law Distribution\"):\n",
    "    ranks = np.arange(1, len(ranked_words) + 1)\n",
    "    frequencies = [count for word, count in ranked_words]\n",
    "\n",
    "    plt.figure(figsize=(10, 6))\n",
    "    plt.loglog(ranks, frequencies, marker='.', linestyle='-', color='blue')\n",
    "    plt.xlabel('Rank')\n",
    "    plt.ylabel('Frequency')\n",
    "    plt.title(title)\n",
    "    plt.grid(True)\n",
    "    plt.show()\n",
    "\n",
    "if __name__ == '__main__':\n",
    "    text_data = \"\"\"This is a sample text to demonstrate Zipf's Law. \n",
    "                This text includes some repeated words to show frequency distribution. \n",
    "                Zipf's Law suggests that the frequency of a word is inversely proportional to its rank.\"\"\"\n",
    "\n",
    "    ranked_words = calculate_zipf(text_data)\n",
    "    plot_zipf(ranked_words)"
   ]
  },
  {
   "cell_type": "code",
   "execution_count": null,
   "id": "5227377c-b73a-4b90-b58b-a22da03a93c8",
   "metadata": {},
   "outputs": [],
   "source": []
  },
  {
   "cell_type": "code",
   "execution_count": null,
   "id": "bc182855-06f4-453b-8e85-9c67558d6adc",
   "metadata": {},
   "outputs": [],
   "source": []
  },
  {
   "cell_type": "code",
   "execution_count": 29,
   "id": "3698cd32-91f9-4f3b-91bf-3bbdf391cd80",
   "metadata": {},
   "outputs": [
    {
     "name": "stdout",
     "output_type": "stream",
     "text": [
      "Legth lyriscs list: 2400\n",
      "Legth word list: 998186\n"
     ]
    },
    {
     "ename": "ValueError",
     "evalue": "x and y must have same first dimension, but have shapes (10000,) and (40677,)",
     "output_type": "error",
     "traceback": [
      "\u001b[0;31m---------------------------------------------------------------------------\u001b[0m",
      "\u001b[0;31mValueError\u001b[0m                                Traceback (most recent call last)",
      "Cell \u001b[0;32mIn[29], line 68\u001b[0m\n\u001b[1;32m     64\u001b[0m \u001b[38;5;28mprint\u001b[39m(\u001b[38;5;124mf\u001b[39m\u001b[38;5;124m\"\u001b[39m\u001b[38;5;124mLegth word list: \u001b[39m\u001b[38;5;132;01m{\u001b[39;00m\u001b[38;5;28mlen\u001b[39m(word_list)\u001b[38;5;132;01m}\u001b[39;00m\u001b[38;5;124m\"\u001b[39m)    \n\u001b[1;32m     66\u001b[0m ranks, frequencies \u001b[38;5;241m=\u001b[39m calculate_zipfs_law(word_list)\n\u001b[0;32m---> 68\u001b[0m plot_zipfs_law(ranks, frequencies)\n\u001b[1;32m     70\u001b[0m \u001b[38;5;66;03m# Example usage: Plot Zipf's Law for the top 100 ranks\u001b[39;00m\n\u001b[1;32m     71\u001b[0m plot_zipfs_law(\u001b[38;5;241m100\u001b[39m)\n",
      "Cell \u001b[0;32mIn[29], line 26\u001b[0m, in \u001b[0;36mplot_zipfs_law\u001b[0;34m(ranks, frequencies)\u001b[0m\n\u001b[1;32m     24\u001b[0m \u001b[38;5;28;01mdef\u001b[39;00m \u001b[38;5;21mplot_zipfs_law\u001b[39m(ranks, frequencies):\n\u001b[1;32m     25\u001b[0m     plt\u001b[38;5;241m.\u001b[39mfigure(figsize\u001b[38;5;241m=\u001b[39m(\u001b[38;5;241m10\u001b[39m, \u001b[38;5;241m6\u001b[39m))\n\u001b[0;32m---> 26\u001b[0m     plt\u001b[38;5;241m.\u001b[39mloglog(ranks, frequencies, marker\u001b[38;5;241m=\u001b[39m\u001b[38;5;124m'\u001b[39m\u001b[38;5;124m.\u001b[39m\u001b[38;5;124m'\u001b[39m, linestyle\u001b[38;5;241m=\u001b[39m\u001b[38;5;124m'\u001b[39m\u001b[38;5;124m-\u001b[39m\u001b[38;5;124m'\u001b[39m, color\u001b[38;5;241m=\u001b[39m\u001b[38;5;124m'\u001b[39m\u001b[38;5;124mblue\u001b[39m\u001b[38;5;124m'\u001b[39m)\n\u001b[1;32m     27\u001b[0m     plt\u001b[38;5;241m.\u001b[39mxlabel(\u001b[38;5;124m'\u001b[39m\u001b[38;5;124mRank\u001b[39m\u001b[38;5;124m'\u001b[39m)\n\u001b[1;32m     28\u001b[0m     plt\u001b[38;5;241m.\u001b[39mylabel(\u001b[38;5;124m'\u001b[39m\u001b[38;5;124mFrequency\u001b[39m\u001b[38;5;124m'\u001b[39m)\n",
      "File \u001b[0;32m/opt/anaconda3/lib/python3.12/site-packages/matplotlib/pyplot.py:3398\u001b[0m, in \u001b[0;36mloglog\u001b[0;34m(*args, **kwargs)\u001b[0m\n\u001b[1;32m   3396\u001b[0m \u001b[38;5;129m@_copy_docstring_and_deprecators\u001b[39m(Axes\u001b[38;5;241m.\u001b[39mloglog)\n\u001b[1;32m   3397\u001b[0m \u001b[38;5;28;01mdef\u001b[39;00m \u001b[38;5;21mloglog\u001b[39m(\u001b[38;5;241m*\u001b[39margs, \u001b[38;5;241m*\u001b[39m\u001b[38;5;241m*\u001b[39mkwargs) \u001b[38;5;241m-\u001b[39m\u001b[38;5;241m>\u001b[39m \u001b[38;5;28mlist\u001b[39m[Line2D]:\n\u001b[0;32m-> 3398\u001b[0m     \u001b[38;5;28;01mreturn\u001b[39;00m gca()\u001b[38;5;241m.\u001b[39mloglog(\u001b[38;5;241m*\u001b[39margs, \u001b[38;5;241m*\u001b[39m\u001b[38;5;241m*\u001b[39mkwargs)\n",
      "File \u001b[0;32m/opt/anaconda3/lib/python3.12/site-packages/matplotlib/axes/_axes.py:1865\u001b[0m, in \u001b[0;36mAxes.loglog\u001b[0;34m(self, *args, **kwargs)\u001b[0m\n\u001b[1;32m   1861\u001b[0m dy \u001b[38;5;241m=\u001b[39m {k: v \u001b[38;5;28;01mfor\u001b[39;00m k, v \u001b[38;5;129;01min\u001b[39;00m kwargs\u001b[38;5;241m.\u001b[39mitems()\n\u001b[1;32m   1862\u001b[0m       \u001b[38;5;28;01mif\u001b[39;00m k \u001b[38;5;129;01min\u001b[39;00m [\u001b[38;5;124m'\u001b[39m\u001b[38;5;124mbase\u001b[39m\u001b[38;5;124m'\u001b[39m, \u001b[38;5;124m'\u001b[39m\u001b[38;5;124msubs\u001b[39m\u001b[38;5;124m'\u001b[39m, \u001b[38;5;124m'\u001b[39m\u001b[38;5;124mnonpositive\u001b[39m\u001b[38;5;124m'\u001b[39m,\n\u001b[1;32m   1863\u001b[0m                \u001b[38;5;124m'\u001b[39m\u001b[38;5;124mbasey\u001b[39m\u001b[38;5;124m'\u001b[39m, \u001b[38;5;124m'\u001b[39m\u001b[38;5;124msubsy\u001b[39m\u001b[38;5;124m'\u001b[39m, \u001b[38;5;124m'\u001b[39m\u001b[38;5;124mnonposy\u001b[39m\u001b[38;5;124m'\u001b[39m]}\n\u001b[1;32m   1864\u001b[0m \u001b[38;5;28mself\u001b[39m\u001b[38;5;241m.\u001b[39mset_yscale(\u001b[38;5;124m'\u001b[39m\u001b[38;5;124mlog\u001b[39m\u001b[38;5;124m'\u001b[39m, \u001b[38;5;241m*\u001b[39m\u001b[38;5;241m*\u001b[39mdy)\n\u001b[0;32m-> 1865\u001b[0m \u001b[38;5;28;01mreturn\u001b[39;00m \u001b[38;5;28mself\u001b[39m\u001b[38;5;241m.\u001b[39mplot(\n\u001b[1;32m   1866\u001b[0m     \u001b[38;5;241m*\u001b[39margs, \u001b[38;5;241m*\u001b[39m\u001b[38;5;241m*\u001b[39m{k: v \u001b[38;5;28;01mfor\u001b[39;00m k, v \u001b[38;5;129;01min\u001b[39;00m kwargs\u001b[38;5;241m.\u001b[39mitems() \u001b[38;5;28;01mif\u001b[39;00m k \u001b[38;5;129;01mnot\u001b[39;00m \u001b[38;5;129;01min\u001b[39;00m {\u001b[38;5;241m*\u001b[39mdx, \u001b[38;5;241m*\u001b[39mdy}})\n",
      "File \u001b[0;32m/opt/anaconda3/lib/python3.12/site-packages/matplotlib/axes/_axes.py:1724\u001b[0m, in \u001b[0;36mAxes.plot\u001b[0;34m(self, scalex, scaley, data, *args, **kwargs)\u001b[0m\n\u001b[1;32m   1481\u001b[0m \u001b[38;5;250m\u001b[39m\u001b[38;5;124;03m\"\"\"\u001b[39;00m\n\u001b[1;32m   1482\u001b[0m \u001b[38;5;124;03mPlot y versus x as lines and/or markers.\u001b[39;00m\n\u001b[1;32m   1483\u001b[0m \n\u001b[0;32m   (...)\u001b[0m\n\u001b[1;32m   1721\u001b[0m \u001b[38;5;124;03m(``'green'``) or hex strings (``'#008000'``).\u001b[39;00m\n\u001b[1;32m   1722\u001b[0m \u001b[38;5;124;03m\"\"\"\u001b[39;00m\n\u001b[1;32m   1723\u001b[0m kwargs \u001b[38;5;241m=\u001b[39m cbook\u001b[38;5;241m.\u001b[39mnormalize_kwargs(kwargs, mlines\u001b[38;5;241m.\u001b[39mLine2D)\n\u001b[0;32m-> 1724\u001b[0m lines \u001b[38;5;241m=\u001b[39m [\u001b[38;5;241m*\u001b[39m\u001b[38;5;28mself\u001b[39m\u001b[38;5;241m.\u001b[39m_get_lines(\u001b[38;5;28mself\u001b[39m, \u001b[38;5;241m*\u001b[39margs, data\u001b[38;5;241m=\u001b[39mdata, \u001b[38;5;241m*\u001b[39m\u001b[38;5;241m*\u001b[39mkwargs)]\n\u001b[1;32m   1725\u001b[0m \u001b[38;5;28;01mfor\u001b[39;00m line \u001b[38;5;129;01min\u001b[39;00m lines:\n\u001b[1;32m   1726\u001b[0m     \u001b[38;5;28mself\u001b[39m\u001b[38;5;241m.\u001b[39madd_line(line)\n",
      "File \u001b[0;32m/opt/anaconda3/lib/python3.12/site-packages/matplotlib/axes/_base.py:303\u001b[0m, in \u001b[0;36m_process_plot_var_args.__call__\u001b[0;34m(self, axes, data, *args, **kwargs)\u001b[0m\n\u001b[1;32m    301\u001b[0m     this \u001b[38;5;241m+\u001b[39m\u001b[38;5;241m=\u001b[39m args[\u001b[38;5;241m0\u001b[39m],\n\u001b[1;32m    302\u001b[0m     args \u001b[38;5;241m=\u001b[39m args[\u001b[38;5;241m1\u001b[39m:]\n\u001b[0;32m--> 303\u001b[0m \u001b[38;5;28;01myield from\u001b[39;00m \u001b[38;5;28mself\u001b[39m\u001b[38;5;241m.\u001b[39m_plot_args(\n\u001b[1;32m    304\u001b[0m     axes, this, kwargs, ambiguous_fmt_datakey\u001b[38;5;241m=\u001b[39mambiguous_fmt_datakey)\n",
      "File \u001b[0;32m/opt/anaconda3/lib/python3.12/site-packages/matplotlib/axes/_base.py:499\u001b[0m, in \u001b[0;36m_process_plot_var_args._plot_args\u001b[0;34m(self, axes, tup, kwargs, return_kwargs, ambiguous_fmt_datakey)\u001b[0m\n\u001b[1;32m    496\u001b[0m     axes\u001b[38;5;241m.\u001b[39myaxis\u001b[38;5;241m.\u001b[39mupdate_units(y)\n\u001b[1;32m    498\u001b[0m \u001b[38;5;28;01mif\u001b[39;00m x\u001b[38;5;241m.\u001b[39mshape[\u001b[38;5;241m0\u001b[39m] \u001b[38;5;241m!=\u001b[39m y\u001b[38;5;241m.\u001b[39mshape[\u001b[38;5;241m0\u001b[39m]:\n\u001b[0;32m--> 499\u001b[0m     \u001b[38;5;28;01mraise\u001b[39;00m \u001b[38;5;167;01mValueError\u001b[39;00m(\u001b[38;5;124mf\u001b[39m\u001b[38;5;124m\"\u001b[39m\u001b[38;5;124mx and y must have same first dimension, but \u001b[39m\u001b[38;5;124m\"\u001b[39m\n\u001b[1;32m    500\u001b[0m                      \u001b[38;5;124mf\u001b[39m\u001b[38;5;124m\"\u001b[39m\u001b[38;5;124mhave shapes \u001b[39m\u001b[38;5;132;01m{\u001b[39;00mx\u001b[38;5;241m.\u001b[39mshape\u001b[38;5;132;01m}\u001b[39;00m\u001b[38;5;124m and \u001b[39m\u001b[38;5;132;01m{\u001b[39;00my\u001b[38;5;241m.\u001b[39mshape\u001b[38;5;132;01m}\u001b[39;00m\u001b[38;5;124m\"\u001b[39m)\n\u001b[1;32m    501\u001b[0m \u001b[38;5;28;01mif\u001b[39;00m x\u001b[38;5;241m.\u001b[39mndim \u001b[38;5;241m>\u001b[39m \u001b[38;5;241m2\u001b[39m \u001b[38;5;129;01mor\u001b[39;00m y\u001b[38;5;241m.\u001b[39mndim \u001b[38;5;241m>\u001b[39m \u001b[38;5;241m2\u001b[39m:\n\u001b[1;32m    502\u001b[0m     \u001b[38;5;28;01mraise\u001b[39;00m \u001b[38;5;167;01mValueError\u001b[39;00m(\u001b[38;5;124mf\u001b[39m\u001b[38;5;124m\"\u001b[39m\u001b[38;5;124mx and y can be no greater than 2D, but have \u001b[39m\u001b[38;5;124m\"\u001b[39m\n\u001b[1;32m    503\u001b[0m                      \u001b[38;5;124mf\u001b[39m\u001b[38;5;124m\"\u001b[39m\u001b[38;5;124mshapes \u001b[39m\u001b[38;5;132;01m{\u001b[39;00mx\u001b[38;5;241m.\u001b[39mshape\u001b[38;5;132;01m}\u001b[39;00m\u001b[38;5;124m and \u001b[39m\u001b[38;5;132;01m{\u001b[39;00my\u001b[38;5;241m.\u001b[39mshape\u001b[38;5;132;01m}\u001b[39;00m\u001b[38;5;124m\"\u001b[39m)\n",
      "\u001b[0;31mValueError\u001b[0m: x and y must have same first dimension, but have shapes (10000,) and (40677,)"
     ]
    },
    {
     "data": {
      "image/png": "[encoded data removed]",
      "text/plain": [
       "<Figure size 1000x600 with 1 Axes>"
      ]
     },
     "metadata": {},
     "output_type": "display_data"
    }
   ],
   "source": [
    "import numpy as np\n",
    "import pandas as pd\n",
    "import matplotlib.pyplot as plt\n",
    "from collections import Counter\n",
    "from pathlib import Path\n",
    "\n",
    "\n",
    "def calculate_zipfs_law(words):\n",
    "    # Remove punctuation and convert to lowercase\n",
    "    #text = re.sub(r'[^\\w\\s]', '', text).lower()\n",
    "    #words = text.split()\n",
    "    \n",
    "    # Count word frequencies\n",
    "    word_counts = Counter(words)\n",
    "    \n",
    "    # Sort words by frequency in descending order\n",
    "    ranked_words = sorted(word_counts.items(), key=lambda x: x[1], reverse=True)\n",
    "    \n",
    "    ranks = np.arange(1, 10001)\n",
    "    frequencies = [count for word, count in ranked_words]\n",
    "    \n",
    "    return ranks, frequencies\n",
    "\n",
    "def plot_zipfs_law(ranks, frequencies):\n",
    "    plt.figure(figsize=(10, 6))\n",
    "    plt.loglog(ranks, frequencies, marker='.', linestyle='-', color='blue')\n",
    "    plt.xlabel('Rank')\n",
    "    plt.ylabel('Frequency')\n",
    "    plt.title('Zipf\\'s Law Plot')\n",
    "    plt.grid(True)\n",
    "\n",
    "    ranks_t = np.arange(1, 10001)\n",
    "    frequencies_t = 1 / ranks  # Theoretical Zipf's Law: frequency = 1/rank\n",
    "\n",
    "    plt.figure(figsize=(10, 6))\n",
    "    plt.loglog(ranks_t, frequencies_t, marker='+', linestyle='-', color='r')\n",
    "    #plt.xlabel('Rank')\n",
    "    #plt.ylabel('Frequency')\n",
    "    #plt.title(\"Theoretical Zipf's Law\")\n",
    "    plt.grid(True)\n",
    "\n",
    "    \n",
    "    plt.show()\n",
    "\n",
    "file_path = Path(\"./Resources/Input_data/lyricsdf.csv\")\n",
    "lyrics_df = pd.read_csv(file_path)\n",
    "lyrics_df.head()\n",
    "lyrics_list = lyrics_df['lyrics']\n",
    "print(f\"Legth lyriscs list: {len(lyrics_list)}\")\n",
    "\n",
    "pattern = r\"[\\'\\(\\)\\[\\]\\{\\}]\"\n",
    "pattern_2 = r\",\"\n",
    "#pattern_3 = r\" \"\n",
    "word_list = []\n",
    "for line in lyrics_list:\n",
    "    if isinstance(line, str):\n",
    "        line = re.sub(pattern,\"\",line)\n",
    "        line = re.sub(pattern_2,\"\",line)\n",
    "        #line = re.sub(pattern_3,\"\",line)\n",
    "        tmp_list = line.split()\n",
    "        for word in tmp_list:\n",
    "            if isinstance(word, str):\n",
    "                word_list.append(word)\n",
    "print(f\"Legth word list: {len(word_list)}\")    \n",
    "\n",
    "ranks, frequencies = calculate_zipfs_law(word_list)\n",
    "\n",
    "plot_zipfs_law(ranks, frequencies)\n",
    "\n",
    "# Example usage: Plot Zipf's Law for the top 100 ranks\n",
    "plot_zipfs_law(100)"
   ]
  },
  {
   "cell_type": "code",
   "execution_count": null,
   "id": "32e5cc2a-b626-4d5a-a670-dbb8d9b6b486",
   "metadata": {},
   "outputs": [],
   "source": []
  },
  {
   "cell_type": "code",
   "execution_count": null,
   "id": "73471857-2abd-458e-9829-bd5033453d2a",
   "metadata": {},
   "outputs": [],
   "source": []
  },
  {
   "cell_type": "code",
   "execution_count": null,
   "id": "699b1ed0-bd9f-492f-9fc2-5f58f5935358",
   "metadata": {},
   "outputs": [],
   "source": []
  },
  {
   "cell_type": "code",
   "execution_count": null,
   "id": "bdcb0d79-a9d5-4206-8c43-0df8276a9b3e",
   "metadata": {},
   "outputs": [],
   "source": []
  },
  {
   "cell_type": "code",
   "execution_count": null,
   "id": "161420e8-e8db-449e-a1e2-c9785b20f9b1",
   "metadata": {},
   "outputs": [],
   "source": []
  },
  {
   "cell_type": "code",
   "execution_count": null,
   "id": "0ffbaa61-a03c-4634-93e9-125bf4e448c1",
   "metadata": {},
   "outputs": [],
   "source": []
  }
 ],
 "metadata": {
  "kernelspec": {
   "display_name": "Python 3 (ipykernel)",
   "language": "python",
   "name": "python3"
  },
  "language_info": {
   "codemirror_mode": {
    "name": "ipython",
    "version": 3
   },
   "file_extension": ".py",
   "mimetype": "text/x-python",
   "name": "python",
   "nbconvert_exporter": "python",
   "pygments_lexer": "ipython3",
   "version": "3.12.2"
  }
 },
 "nbformat": 4,
 "nbformat_minor": 5
}
