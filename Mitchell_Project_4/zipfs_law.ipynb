{
 "cells": [
  {
   "cell_type": "markdown",
   "id": "ffd793fb-575d-4f32-9fe6-694a449884db",
   "metadata": {},
   "source": [
    "# Zipf's Law"
   ]
  },
  {
   "cell_type": "markdown",
   "id": "70467e25-48c4-4f00-b9b0-4b9af5b392d7",
   "metadata": {},
   "source": [
    "### import"
   ]
  },
  {
   "cell_type": "code",
   "execution_count": 73,
   "id": "7a005192-1c6a-40ca-a85d-d71961c39e76",
   "metadata": {},
   "outputs": [],
   "source": [
    "import numpy as np\n",
    "import pandas as pd\n",
    "from scipy.optimize import minimize_scalar\n",
    "import matplotlib.pyplot as plt\n",
    "from collections import Counter\n",
    "import re\n",
    "from collections import Counter\n",
    "from pathlib import Path\n",
    "import os"
   ]
  },
  {
   "cell_type": "code",
   "execution_count": 75,
   "id": "0ec7b0b4-15cc-4c30-a0e1-a190083cbea7",
   "metadata": {},
   "outputs": [],
   "source": [
    "def calculate_zipfs_law(words):\n",
    "\n",
    "    # Count word frequencies\n",
    "    word_counts = Counter(words)\n",
    "    \n",
    "    # Sort words by frequency in descending order\n",
    "    ranked_words = sorted(word_counts.items(), key=lambda x: x[1], reverse=True)\n",
    "    print(type(ranked_words))\n",
    "    ranks = np.arange(1, len(ranked_words)+1)\n",
    "    frequencies = [count for word, count in ranked_words]\n",
    "\n",
    "    #ranks = np.arange(1, len(sorted_word_counts) + 1)\n",
    "    #frequencies = list(sorted_word_counts.values())\n",
    "    \n",
    "    return ranks, frequencies"
   ]
  },
  {
   "cell_type": "code",
   "execution_count": null,
   "id": "6038a70f-d70e-4ddf-9926-bb6505d37bea",
   "metadata": {},
   "outputs": [],
   "source": []
  },
  {
   "cell_type": "code",
   "execution_count": null,
   "id": "d79fd836-6c8f-4b05-95a1-5271643e82bb",
   "metadata": {},
   "outputs": [],
   "source": []
  },
  {
   "cell_type": "code",
   "execution_count": null,
   "id": "16939688-7f1c-4d35-8bd5-f8cd545f8a62",
   "metadata": {},
   "outputs": [],
   "source": []
  },
  {
   "cell_type": "code",
   "execution_count": 80,
   "id": "5ec278f6-5a39-45bb-a77d-f893448270bf",
   "metadata": {},
   "outputs": [],
   "source": [
    "def plot_zipfs_law(ranks, frequencies, word_list):\n",
    "    plt.figure(figsize=(10, 6))\n",
    "    plt.loglog(ranks, frequencies, marker='.', linestyle='-', color='blue')\n",
    "    plt.xlabel('Rank')\n",
    "    plt.ylabel('Frequency')\n",
    "    plt.title('Zipf\\'s Law Plot')\n",
    "    plt.grid(True)\n",
    "    \n",
    "    #alpha, C = estimate_zipf(word_list)\n",
    "    #sum_of_frequencies = 998186\n",
    "    #plt.loglog(rank, (sum_of_frequencies / C * rank ** alpha),marker='.', linestyle='-', color='red')\n",
    "    \n",
    "    \n",
    "    plt.show()"
   ]
  },
  {
   "cell_type": "markdown",
   "id": "f5665787-05f9-4119-8dbb-db475c92ac73",
   "metadata": {},
   "source": [
    "### get current directory"
   ]
  },
  {
   "cell_type": "code",
   "execution_count": 83,
   "id": "83ad7fd5-31ee-407f-b6bc-e429b4257d56",
   "metadata": {},
   "outputs": [
    {
     "name": "stdout",
     "output_type": "stream",
     "text": [
      "current directory: /Users/wayne.mitchell/Documents/NU/proj_4_working\n",
      "['.DS_Store', 'wpm_project_4.1.ipynb', 'Untitled.ipynb', 'Resources', '.ipynb_checkpoints', 'sandbox.ipynb', '.git']\n"
     ]
    }
   ],
   "source": [
    "print (f\"current directory: {os.getcwd()}\")\n",
    "file_list=os.listdir(os.getcwd())\n",
    "print (file_list)"
   ]
  },
  {
   "cell_type": "code",
   "execution_count": 84,
   "id": "07fd997b-4981-41ca-883e-77a2294f74fd",
   "metadata": {},
   "outputs": [],
   "source": [
    "#new_path = \"./NU/proj_4_working/\"\n",
    "#new_path = \"../..\"\n",
    "#os.chdir(new_path)\n",
    "#print (f\"current directory: {os.getcwd()}\")"
   ]
  },
  {
   "cell_type": "markdown",
   "id": "a5ccf531-b115-4745-8fe6-a7d4af9552b2",
   "metadata": {},
   "source": [
    "### read in lyrics"
   ]
  },
  {
   "cell_type": "code",
   "execution_count": 88,
   "id": "5fdb5848-5eb5-434b-8305-13db35c6a0ae",
   "metadata": {},
   "outputs": [],
   "source": [
    "file_path = Path(\"./Resources/Input_data/lyricsdf.csv\")\n",
    "lyrics_df = pd.read_csv(file_path)\n",
    "lyrics_df.head()\n",
    "lyrics_list = lyrics_df['lyrics']"
   ]
  },
  {
   "cell_type": "markdown",
   "id": "80eae53e-1c11-4124-878f-2476e96e4d9b",
   "metadata": {},
   "source": [
    "### parse lyrics into a word list"
   ]
  },
  {
   "cell_type": "code",
   "execution_count": 90,
   "id": "88bf5523-d25f-4279-b0d8-2ed12f31c05d",
   "metadata": {},
   "outputs": [],
   "source": [
    "pattern = r\"[\\'\\(\\)\\[\\]\\{\\}]\"\n",
    "pattern_2 = r\",\"\n",
    "#pattern_3 = r\" \"\n",
    "word_list = []\n",
    "word_dict = {}\n",
    "\n",
    "for line in lyrics_list:\n",
    "    if isinstance(line, str):\n",
    "        line = line.lower()\n",
    "        line = re.sub(pattern,\"\",line)\n",
    "        line = re.sub(pattern_2,\"\",line)\n",
    "        #line = re.sub(pattern_3,\"\",line)\n",
    "        tmp_list = line.split()\n",
    "        for word in tmp_list:\n",
    "            if isinstance(word, str):\n",
    "                word_list.append(word)\n",
    "                if word in word_dict:\n",
    "                   word_dict[word]+=1\n",
    "                else:\n",
    "                    word_dict[word]=1\n"
   ]
  },
  {
   "cell_type": "markdown",
   "id": "ce83b83a-df83-452d-a069-367423b37f14",
   "metadata": {},
   "source": [
    "### get length of word_list"
   ]
  },
  {
   "cell_type": "code",
   "execution_count": 94,
   "id": "8b66b923-9944-467a-ae04-8ef19e8f0eb7",
   "metadata": {},
   "outputs": [
    {
     "name": "stdout",
     "output_type": "stream",
     "text": [
      "998186\n"
     ]
    }
   ],
   "source": [
    "print(len(word_list))"
   ]
  },
  {
   "cell_type": "markdown",
   "id": "08d632a3-6acf-467a-87ac-ed09b3b53269",
   "metadata": {},
   "source": [
    "### calculate ranks abd frequencies"
   ]
  },
  {
   "cell_type": "code",
   "execution_count": 96,
   "id": "d0713a1c-930f-4214-93de-1c70e02f2c19",
   "metadata": {
    "scrolled": true
   },
   "outputs": [
    {
     "name": "stdout",
     "output_type": "stream",
     "text": [
      "<class 'list'>\n",
      "length ranks: 34947\n",
      "length frequencies: 34947\n",
      "type ranks: <class 'numpy.ndarray'>\n",
      "type frequencies: <class 'list'>\n",
      "ranks[0]: 1\n",
      "frequencies[0]: 37565\n",
      "length word_dict: 34947\n",
      "sum of frequencie: 998186\n"
     ]
    }
   ],
   "source": [
    "ranks, frequencies = calculate_zipfs_law(word_list)\n",
    "print(f\"length ranks: {len(ranks)}\")\n",
    "print(f\"length frequencies: {len(frequencies)}\")\n",
    "print(f\"type ranks: {type(ranks)}\")\n",
    "print(f\"type frequencies: {type(frequencies)}\")\n",
    "print(f\"ranks[0]: {ranks[0]}\")\n",
    "print(f\"frequencies[0]: {frequencies[0]}\")\n",
    "print(f\"length word_dict: {len(word_dict)}\")\n",
    "print(f\"sum of frequencie: {sum(frequencies)}\")"
   ]
  },
  {
   "cell_type": "code",
   "execution_count": 98,
   "id": "e4577e84-fc0e-489f-8705-fe0ecf415b56",
   "metadata": {},
   "outputs": [
    {
     "data": {
      "image/png": "[encoded data removed]",
      "text/plain": [
       "<Figure size 1000x600 with 1 Axes>"
      ]
     },
     "metadata": {},
     "output_type": "display_data"
    }
   ],
   "source": [
    "plot_zipfs_law(ranks, frequencies, word_list)"
   ]
  },
  {
   "cell_type": "code",
   "execution_count": 100,
   "id": "11d8aa9e-62c8-4643-b8f6-90a1bf8e7047",
   "metadata": {},
   "outputs": [],
   "source": []
  },
  {
   "cell_type": "code",
   "execution_count": null,
   "id": "51272f23-230c-4d86-873c-b15896d897ff",
   "metadata": {},
   "outputs": [],
   "source": []
  }
 ],
 "metadata": {
  "kernelspec": {
   "display_name": "Python 3 (ipykernel)",
   "language": "python",
   "name": "python3"
  },
  "language_info": {
   "codemirror_mode": {
    "name": "ipython",
    "version": 3
   },
   "file_extension": ".py",
   "mimetype": "text/x-python",
   "name": "python",
   "nbconvert_exporter": "python",
   "pygments_lexer": "ipython3",
   "version": "3.12.2"
  }
 },
 "nbformat": 4,
 "nbformat_minor": 5
}
